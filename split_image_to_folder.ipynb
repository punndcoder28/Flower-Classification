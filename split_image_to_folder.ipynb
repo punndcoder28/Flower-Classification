{
 "cells": [
  {
   "cell_type": "code",
   "execution_count": 18,
   "metadata": {},
   "outputs": [],
   "source": [
    "import numpy as np\n",
    "import os\n",
    "import pandas as pd\n",
    "import shutil\n",
    "import tqdm\n",
    "import random"
   ]
  },
  {
   "cell_type": "code",
   "execution_count": 2,
   "metadata": {},
   "outputs": [
    {
     "data": {
      "text/html": [
       "<div>\n",
       "<style scoped>\n",
       "    .dataframe tbody tr th:only-of-type {\n",
       "        vertical-align: middle;\n",
       "    }\n",
       "\n",
       "    .dataframe tbody tr th {\n",
       "        vertical-align: top;\n",
       "    }\n",
       "\n",
       "    .dataframe thead th {\n",
       "        text-align: right;\n",
       "    }\n",
       "</style>\n",
       "<table border=\"1\" class=\"dataframe\">\n",
       "  <thead>\n",
       "    <tr style=\"text-align: right;\">\n",
       "      <th></th>\n",
       "      <th>image_id</th>\n",
       "      <th>category</th>\n",
       "    </tr>\n",
       "  </thead>\n",
       "  <tbody>\n",
       "    <tr>\n",
       "      <th>0</th>\n",
       "      <td>0</td>\n",
       "      <td>77</td>\n",
       "    </tr>\n",
       "    <tr>\n",
       "      <th>1</th>\n",
       "      <td>1</td>\n",
       "      <td>81</td>\n",
       "    </tr>\n",
       "    <tr>\n",
       "      <th>2</th>\n",
       "      <td>2</td>\n",
       "      <td>52</td>\n",
       "    </tr>\n",
       "    <tr>\n",
       "      <th>3</th>\n",
       "      <td>3</td>\n",
       "      <td>72</td>\n",
       "    </tr>\n",
       "    <tr>\n",
       "      <th>4</th>\n",
       "      <td>4</td>\n",
       "      <td>58</td>\n",
       "    </tr>\n",
       "  </tbody>\n",
       "</table>\n",
       "</div>"
      ],
      "text/plain": [
       "   image_id  category\n",
       "0         0        77\n",
       "1         1        81\n",
       "2         2        52\n",
       "3         3        72\n",
       "4         4        58"
      ]
     },
     "execution_count": 2,
     "metadata": {},
     "output_type": "execute_result"
    }
   ],
   "source": [
    "dataset = pd.read_csv(\"./data/train.csv\")\n",
    "dataset.head()"
   ]
  },
  {
   "cell_type": "code",
   "execution_count": 3,
   "metadata": {},
   "outputs": [],
   "source": [
    "file_names = list(dataset['image_id'].values)\n",
    "image_labels = list(dataset['category'].values)\n",
    "dataset = dataset.applymap(str)"
   ]
  },
  {
   "cell_type": "code",
   "execution_count": 4,
   "metadata": {},
   "outputs": [
    {
     "data": {
      "text/plain": [
       "array(['1', '10', '100', '101', '102', '11', '12', '13', '14', '15', '16',\n",
       "       '17', '18', '19', '2', '20', '21', '22', '23', '24', '25', '26',\n",
       "       '27', '28', '29', '3', '30', '31', '32', '33', '34', '35', '36',\n",
       "       '37', '38', '39', '4', '40', '41', '42', '43', '44', '45', '46',\n",
       "       '47', '48', '49', '5', '50', '51', '52', '53', '54', '55', '56',\n",
       "       '57', '58', '59', '6', '60', '61', '62', '63', '64', '65', '66',\n",
       "       '67', '68', '69', '7', '70', '71', '72', '73', '74', '75', '76',\n",
       "       '77', '78', '79', '8', '80', '81', '82', '83', '84', '85', '86',\n",
       "       '87', '88', '89', '9', '90', '91', '92', '93', '94', '95', '96',\n",
       "       '97', '98', '99'], dtype='<U3')"
      ]
     },
     "execution_count": 4,
     "metadata": {},
     "output_type": "execute_result"
    }
   ],
   "source": [
    "folders_to_be_created = np.unique(list(dataset['category']))\n",
    "folders_to_be_created"
   ]
  },
  {
   "cell_type": "code",
   "execution_count": 5,
   "metadata": {},
   "outputs": [
    {
     "data": {
      "text/plain": [
       "'/home/puneeth/Desktop/projects/Flower-Classification'"
      ]
     },
     "execution_count": 5,
     "metadata": {},
     "output_type": "execute_result"
    }
   ],
   "source": [
    "source = os.getcwd()\n",
    "source"
   ]
  },
  {
   "cell_type": "code",
   "execution_count": 11,
   "metadata": {},
   "outputs": [],
   "source": [
    "for new_path in folders_to_be_created:\n",
    "    if not os.path.exists('./data/'+new_path):\n",
    "        os.makedirs(os.path.join('./data/training_data/', new_path))"
   ]
  },
  {
   "cell_type": "code",
   "execution_count": 12,
   "metadata": {},
   "outputs": [],
   "source": [
    "folders = folders_to_be_created.copy()\n",
    "path_to_current_file = '/home/puneeth/Desktop/projects/Flower-Classification/data/train/'\n",
    "path_to_new_destination_folder = '/home/puneeth/Desktop/projects/Flower-Classification/data/training_data/'"
   ]
  },
  {
   "cell_type": "code",
   "execution_count": 13,
   "metadata": {},
   "outputs": [],
   "source": [
    "for f in range(len(file_names)):\n",
    "    current_image = str(file_names[f])+'.jpg'\n",
    "    current_label = str(image_labels[f])\n",
    "    shutil.move(path_to_current_file+current_image, path_to_new_destination_folder+current_label)"
   ]
  },
  {
   "cell_type": "code",
   "execution_count": 15,
   "metadata": {},
   "outputs": [
    {
     "data": {
      "text/plain": [
       "array([], dtype=object)"
      ]
     },
     "execution_count": 15,
     "metadata": {},
     "output_type": "execute_result"
    }
   ],
   "source": [
    "dataset[dataset['category']==2]['image_id'].values"
   ]
  },
  {
   "cell_type": "code",
   "execution_count": 21,
   "metadata": {},
   "outputs": [],
   "source": [
    "def split_dataset(all_data_dir, training_dir, testing_dir, testing_data_pct):\n",
    "    if testing_dir.count(\"/\")>1:\n",
    "        shutil.rmtree(testing_dir, ignore_errors=False)\n",
    "        os.mkdir(testing_dir)\n",
    "        print(\"cleaned testing directory\")\n",
    "    else:\n",
    "        print(\"Refusing to clean testing directory\")\n",
    "        \n",
    "    if training_dir.count('/')>1:\n",
    "        shutil.rmtree(training_dir, ignore_errors=False)\n",
    "        os.mkdir(training_dir)\n",
    "        print('cleaned training directory')\n",
    "    else:\n",
    "        print(\"Refusing to clean training directory\")\n",
    "        \n",
    "    num_training_files = 0\n",
    "    num_testing_files = 0\n",
    "    \n",
    "    for subdir, dir, files in os.walk(all_data_dir):\n",
    "        cat_name = os.path.basename(subdir)\n",
    "        \n",
    "        if cat_name==os.path.basename(all_data_dir):\n",
    "            continue\n",
    "            \n",
    "        train_data_cat_dir = training_dir+'/'+cat_name\n",
    "        test_data_cat_dir = testing_dir+'/'+cat_name\n",
    "        \n",
    "        if not os.path.exists(train_data_cat_dir):\n",
    "            os.mkdir(train_data_cat_dir)\n",
    "            \n",
    "        if not os.path.exists(test_data_cat_dir):\n",
    "            os.mkdir(test_data_cat_dir)\n",
    "            \n",
    "        for file in files:\n",
    "            input_file = os.path.join(subdir, file)\n",
    "            prob = random.random()\n",
    "            if prob<testing_data_pct:\n",
    "                shutil.copy(input_file, testing_dir+'/'+cat_name+'/'+file)\n",
    "                num_testing_files+=1\n",
    "            else:\n",
    "                shutil.copy(input_file, training_dir+'/'+cat_name+'/'+file)\n",
    "                num_training_files+=1\n",
    "                \n",
    "    print(str(num_training_files)+\" training files\")\n",
    "    print(str(num_testing_files)+\" testing files\")"
   ]
  },
  {
   "cell_type": "code",
   "execution_count": 22,
   "metadata": {},
   "outputs": [
    {
     "name": "stdout",
     "output_type": "stream",
     "text": [
      "cleaned testing directory\n",
      "cleaned training directory\n",
      "13047 training files\n",
      "5493 testing files\n"
     ]
    }
   ],
   "source": [
    "split_dataset(\"./data/training_data\", './data/training', './data/validation', 0.3)"
   ]
  },
  {
   "cell_type": "code",
   "execution_count": null,
   "metadata": {},
   "outputs": [],
   "source": []
  }
 ],
 "metadata": {
  "file_extension": ".py",
  "kernelspec": {
   "display_name": "Python 3",
   "language": "python",
   "name": "python3"
  },
  "language_info": {
   "codemirror_mode": {
    "name": "ipython",
    "version": 3
   },
   "file_extension": ".py",
   "mimetype": "text/x-python",
   "name": "python",
   "nbconvert_exporter": "python",
   "pygments_lexer": "ipython3",
   "version": "3.6.9"
  },
  "mimetype": "text/x-python",
  "name": "python",
  "npconvert_exporter": "python",
  "pygments_lexer": "ipython3",
  "version": 3
 },
 "nbformat": 4,
 "nbformat_minor": 2
}
